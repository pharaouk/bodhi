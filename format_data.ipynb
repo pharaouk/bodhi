{
 "cells": [
  {
   "cell_type": "code",
   "execution_count": 1,
   "id": "initial_id",
   "metadata": {
    "collapsed": true,
    "ExecuteTime": {
     "end_time": "2023-09-15T09:34:17.257210Z",
     "start_time": "2023-09-15T09:34:02.632972Z"
    }
   },
   "outputs": [],
   "source": [
    "from datasets import load_dataset"
   ]
  },
  {
   "cell_type": "code",
   "execution_count": 29,
   "outputs": [
    {
     "data": {
      "text/plain": "Downloading readme:   0%|          | 0.00/4.26k [00:00<?, ?B/s]",
      "application/vnd.jupyter.widget-view+json": {
       "version_major": 2,
       "version_minor": 0,
       "model_id": "61d1d2ab3c604d7a98137061086b8d7f"
      }
     },
     "metadata": {},
     "output_type": "display_data"
    },
    {
     "data": {
      "text/plain": "Downloading data files:   0%|          | 0/32 [00:00<?, ?it/s]",
      "application/vnd.jupyter.widget-view+json": {
       "version_major": 2,
       "version_minor": 0,
       "model_id": "ab1006a6c3e74a2097941fbbbe6c887c"
      }
     },
     "metadata": {},
     "output_type": "display_data"
    },
    {
     "data": {
      "text/plain": "Downloading data:   0%|          | 0.00/41.1M [00:00<?, ?B/s]",
      "application/vnd.jupyter.widget-view+json": {
       "version_major": 2,
       "version_minor": 0,
       "model_id": "5ae637f0a39943b5a2c3c61dac96a312"
      }
     },
     "metadata": {},
     "output_type": "display_data"
    },
    {
     "data": {
      "text/plain": "Downloading data:   0%|          | 0.00/49.6M [00:00<?, ?B/s]",
      "application/vnd.jupyter.widget-view+json": {
       "version_major": 2,
       "version_minor": 0,
       "model_id": "f8f63f4545494fa88da403fd85da566d"
      }
     },
     "metadata": {},
     "output_type": "display_data"
    },
    {
     "data": {
      "text/plain": "Downloading data:   0%|          | 0.00/78.9M [00:00<?, ?B/s]",
      "application/vnd.jupyter.widget-view+json": {
       "version_major": 2,
       "version_minor": 0,
       "model_id": "77a1ee0d9fa54e5badce549703eb5fe1"
      }
     },
     "metadata": {},
     "output_type": "display_data"
    },
    {
     "data": {
      "text/plain": "Downloading data:   0%|          | 0.00/26.7M [00:00<?, ?B/s]",
      "application/vnd.jupyter.widget-view+json": {
       "version_major": 2,
       "version_minor": 0,
       "model_id": "eb889d5d0f684be9a9c6862070004320"
      }
     },
     "metadata": {},
     "output_type": "display_data"
    },
    {
     "data": {
      "text/plain": "Downloading data:   0%|          | 0.00/81.3M [00:00<?, ?B/s]",
      "application/vnd.jupyter.widget-view+json": {
       "version_major": 2,
       "version_minor": 0,
       "model_id": "92191fa6bd814f5db82758bfc41fea4b"
      }
     },
     "metadata": {},
     "output_type": "display_data"
    },
    {
     "data": {
      "text/plain": "Downloading data:   0%|          | 0.00/38.0M [00:00<?, ?B/s]",
      "application/vnd.jupyter.widget-view+json": {
       "version_major": 2,
       "version_minor": 0,
       "model_id": "77e69f20d9934f33a5c5d4f76547758a"
      }
     },
     "metadata": {},
     "output_type": "display_data"
    },
    {
     "data": {
      "text/plain": "Downloading data:   0%|          | 0.00/20.8M [00:00<?, ?B/s]",
      "application/vnd.jupyter.widget-view+json": {
       "version_major": 2,
       "version_minor": 0,
       "model_id": "094510756af04a59883a511bfc9971c1"
      }
     },
     "metadata": {},
     "output_type": "display_data"
    },
    {
     "data": {
      "text/plain": "Downloading data:   0%|          | 0.00/58.2M [00:00<?, ?B/s]",
      "application/vnd.jupyter.widget-view+json": {
       "version_major": 2,
       "version_minor": 0,
       "model_id": "f57b386cd4c94a1f99f391e57aa42dcc"
      }
     },
     "metadata": {},
     "output_type": "display_data"
    },
    {
     "data": {
      "text/plain": "Downloading data:   0%|          | 0.00/108M [00:00<?, ?B/s]",
      "application/vnd.jupyter.widget-view+json": {
       "version_major": 2,
       "version_minor": 0,
       "model_id": "3cbc955a217b4c8183c07712a72eb204"
      }
     },
     "metadata": {},
     "output_type": "display_data"
    },
    {
     "data": {
      "text/plain": "Downloading data:   0%|          | 0.00/35.5M [00:00<?, ?B/s]",
      "application/vnd.jupyter.widget-view+json": {
       "version_major": 2,
       "version_minor": 0,
       "model_id": "5362713eb4d54d09955628d540e64619"
      }
     },
     "metadata": {},
     "output_type": "display_data"
    },
    {
     "data": {
      "text/plain": "Downloading data:   0%|          | 0.00/8.75M [00:00<?, ?B/s]",
      "application/vnd.jupyter.widget-view+json": {
       "version_major": 2,
       "version_minor": 0,
       "model_id": "e04f3ff75e804c4c96477bf1f4dbf700"
      }
     },
     "metadata": {},
     "output_type": "display_data"
    },
    {
     "data": {
      "text/plain": "Downloading data:   0%|          | 0.00/49.2M [00:00<?, ?B/s]",
      "application/vnd.jupyter.widget-view+json": {
       "version_major": 2,
       "version_minor": 0,
       "model_id": "3c6e73259c2d4289adf50c97872f2592"
      }
     },
     "metadata": {},
     "output_type": "display_data"
    },
    {
     "data": {
      "text/plain": "Downloading data:   0%|          | 0.00/69.1M [00:00<?, ?B/s]",
      "application/vnd.jupyter.widget-view+json": {
       "version_major": 2,
       "version_minor": 0,
       "model_id": "c122292939f540859bc9ba66fe042859"
      }
     },
     "metadata": {},
     "output_type": "display_data"
    },
    {
     "data": {
      "text/plain": "Downloading data:   0%|          | 0.00/36.6M [00:00<?, ?B/s]",
      "application/vnd.jupyter.widget-view+json": {
       "version_major": 2,
       "version_minor": 0,
       "model_id": "da62aa12398045d7a14f871d5af70dd9"
      }
     },
     "metadata": {},
     "output_type": "display_data"
    },
    {
     "data": {
      "text/plain": "Downloading data:   0%|          | 0.00/32.6M [00:00<?, ?B/s]",
      "application/vnd.jupyter.widget-view+json": {
       "version_major": 2,
       "version_minor": 0,
       "model_id": "1f10c2f32e764e04bff13be26e901cb6"
      }
     },
     "metadata": {},
     "output_type": "display_data"
    },
    {
     "data": {
      "text/plain": "Downloading data:   0%|          | 0.00/54.9M [00:00<?, ?B/s]",
      "application/vnd.jupyter.widget-view+json": {
       "version_major": 2,
       "version_minor": 0,
       "model_id": "9ce5e4b07fce428b877c2f3323e28736"
      }
     },
     "metadata": {},
     "output_type": "display_data"
    },
    {
     "data": {
      "text/plain": "Downloading data:   0%|          | 0.00/65.0M [00:00<?, ?B/s]",
      "application/vnd.jupyter.widget-view+json": {
       "version_major": 2,
       "version_minor": 0,
       "model_id": "c62b2036c1554edc951cbc6f43c88edd"
      }
     },
     "metadata": {},
     "output_type": "display_data"
    },
    {
     "data": {
      "text/plain": "Downloading data:   0%|          | 0.00/28.0M [00:00<?, ?B/s]",
      "application/vnd.jupyter.widget-view+json": {
       "version_major": 2,
       "version_minor": 0,
       "model_id": "b40dacdf12864f9abd427be3b72a7330"
      }
     },
     "metadata": {},
     "output_type": "display_data"
    },
    {
     "data": {
      "text/plain": "Downloading data:   0%|          | 0.00/101M [00:00<?, ?B/s]",
      "application/vnd.jupyter.widget-view+json": {
       "version_major": 2,
       "version_minor": 0,
       "model_id": "466dcc5544a541c7870c16f7ed96a826"
      }
     },
     "metadata": {},
     "output_type": "display_data"
    },
    {
     "data": {
      "text/plain": "Downloading data:   0%|          | 0.00/14.9M [00:00<?, ?B/s]",
      "application/vnd.jupyter.widget-view+json": {
       "version_major": 2,
       "version_minor": 0,
       "model_id": "a0f5a20d58ff4b6b950d32fe2a8c1e33"
      }
     },
     "metadata": {},
     "output_type": "display_data"
    },
    {
     "data": {
      "text/plain": "Downloading data:   0%|          | 0.00/49.1M [00:00<?, ?B/s]",
      "application/vnd.jupyter.widget-view+json": {
       "version_major": 2,
       "version_minor": 0,
       "model_id": "ed3da425197a4949a71ae9baad9c4d4f"
      }
     },
     "metadata": {},
     "output_type": "display_data"
    },
    {
     "data": {
      "text/plain": "Downloading data:   0%|          | 0.00/56.8M [00:00<?, ?B/s]",
      "application/vnd.jupyter.widget-view+json": {
       "version_major": 2,
       "version_minor": 0,
       "model_id": "860e0f69976c42fda380047040522ec0"
      }
     },
     "metadata": {},
     "output_type": "display_data"
    },
    {
     "data": {
      "text/plain": "Downloading data:   0%|          | 0.00/31.7M [00:00<?, ?B/s]",
      "application/vnd.jupyter.widget-view+json": {
       "version_major": 2,
       "version_minor": 0,
       "model_id": "a9c52ee04da24735b1365b6c27dabe05"
      }
     },
     "metadata": {},
     "output_type": "display_data"
    },
    {
     "data": {
      "text/plain": "Downloading data:   0%|          | 0.00/42.4M [00:00<?, ?B/s]",
      "application/vnd.jupyter.widget-view+json": {
       "version_major": 2,
       "version_minor": 0,
       "model_id": "b52654cc48cc41b693992f2bf83bb527"
      }
     },
     "metadata": {},
     "output_type": "display_data"
    },
    {
     "data": {
      "text/plain": "Downloading data:   0%|          | 0.00/34.1M [00:00<?, ?B/s]",
      "application/vnd.jupyter.widget-view+json": {
       "version_major": 2,
       "version_minor": 0,
       "model_id": "6ded05ea20af4527880bc2685b16aa8c"
      }
     },
     "metadata": {},
     "output_type": "display_data"
    },
    {
     "data": {
      "text/plain": "Downloading data:   0%|          | 0.00/83.6M [00:00<?, ?B/s]",
      "application/vnd.jupyter.widget-view+json": {
       "version_major": 2,
       "version_minor": 0,
       "model_id": "fe13143e8b684f50abdda42dc1c4aab6"
      }
     },
     "metadata": {},
     "output_type": "display_data"
    },
    {
     "data": {
      "text/plain": "Downloading data:   0%|          | 0.00/30.1M [00:00<?, ?B/s]",
      "application/vnd.jupyter.widget-view+json": {
       "version_major": 2,
       "version_minor": 0,
       "model_id": "9f80d4ca23d149a4b6c42d39d64a320b"
      }
     },
     "metadata": {},
     "output_type": "display_data"
    },
    {
     "data": {
      "text/plain": "Downloading data:   0%|          | 0.00/12.6M [00:00<?, ?B/s]",
      "application/vnd.jupyter.widget-view+json": {
       "version_major": 2,
       "version_minor": 0,
       "model_id": "ed39e3db56c642ccabde0d60795852c4"
      }
     },
     "metadata": {},
     "output_type": "display_data"
    },
    {
     "data": {
      "text/plain": "Downloading data:   0%|          | 0.00/37.7M [00:00<?, ?B/s]",
      "application/vnd.jupyter.widget-view+json": {
       "version_major": 2,
       "version_minor": 0,
       "model_id": "11a2f18ca8f649509f77056fd5585182"
      }
     },
     "metadata": {},
     "output_type": "display_data"
    },
    {
     "data": {
      "text/plain": "Downloading data:   0%|          | 0.00/16.4M [00:00<?, ?B/s]",
      "application/vnd.jupyter.widget-view+json": {
       "version_major": 2,
       "version_minor": 0,
       "model_id": "078a9d465b02451a9f8307bfd9e345b3"
      }
     },
     "metadata": {},
     "output_type": "display_data"
    },
    {
     "data": {
      "text/plain": "Downloading data:   0%|          | 0.00/6.12M [00:00<?, ?B/s]",
      "application/vnd.jupyter.widget-view+json": {
       "version_major": 2,
       "version_minor": 0,
       "model_id": "2c5dff55edca49a88d585404533d064d"
      }
     },
     "metadata": {},
     "output_type": "display_data"
    },
    {
     "data": {
      "text/plain": "Downloading data:   0%|          | 0.00/14.3M [00:00<?, ?B/s]",
      "application/vnd.jupyter.widget-view+json": {
       "version_major": 2,
       "version_minor": 0,
       "model_id": "0bc809a50018454ab66726a55af75b2e"
      }
     },
     "metadata": {},
     "output_type": "display_data"
    },
    {
     "data": {
      "text/plain": "Extracting data files:   0%|          | 0/32 [00:00<?, ?it/s]",
      "application/vnd.jupyter.widget-view+json": {
       "version_major": 2,
       "version_minor": 0,
       "model_id": "e34e9405515944a5950b5ca23730cf8b"
      }
     },
     "metadata": {},
     "output_type": "display_data"
    },
    {
     "data": {
      "text/plain": "Generating config0 split:   0%|          | 0/99425 [00:00<?, ? examples/s]",
      "application/vnd.jupyter.widget-view+json": {
       "version_major": 2,
       "version_minor": 0,
       "model_id": "21eee0c549264c5a9985f83d23ddd72a"
      }
     },
     "metadata": {},
     "output_type": "display_data"
    },
    {
     "data": {
      "text/plain": "Generating config1 split:   0%|          | 0/125333 [00:00<?, ? examples/s]",
      "application/vnd.jupyter.widget-view+json": {
       "version_major": 2,
       "version_minor": 0,
       "model_id": "4cbb1f5441044ebba1a2cb9e00dc804d"
      }
     },
     "metadata": {},
     "output_type": "display_data"
    },
    {
     "data": {
      "text/plain": "Generating config2 split:   0%|          | 0/142226 [00:00<?, ? examples/s]",
      "application/vnd.jupyter.widget-view+json": {
       "version_major": 2,
       "version_minor": 0,
       "model_id": "f704ce4943834539af64e06360ef6ae6"
      }
     },
     "metadata": {},
     "output_type": "display_data"
    },
    {
     "data": {
      "text/plain": "Generating config3 split:   0%|          | 0/95365 [00:00<?, ? examples/s]",
      "application/vnd.jupyter.widget-view+json": {
       "version_major": 2,
       "version_minor": 0,
       "model_id": "aff6188d3fbe46ad8cb180dee08acbb2"
      }
     },
     "metadata": {},
     "output_type": "display_data"
    },
    {
     "data": {
      "text/plain": "Generating config4 split:   0%|          | 0/160680 [00:00<?, ? examples/s]",
      "application/vnd.jupyter.widget-view+json": {
       "version_major": 2,
       "version_minor": 0,
       "model_id": "f93d3eb7846e4426962b108bd3adff3d"
      }
     },
     "metadata": {},
     "output_type": "display_data"
    },
    {
     "data": {
      "text/plain": "Generating config5 split:   0%|          | 0/73168 [00:00<?, ? examples/s]",
      "application/vnd.jupyter.widget-view+json": {
       "version_major": 2,
       "version_minor": 0,
       "model_id": "b7a3ee93df574b18b13eb8537e97f7cd"
      }
     },
     "metadata": {},
     "output_type": "display_data"
    },
    {
     "data": {
      "text/plain": "Generating config6 split:   0%|          | 0/68399 [00:00<?, ? examples/s]",
      "application/vnd.jupyter.widget-view+json": {
       "version_major": 2,
       "version_minor": 0,
       "model_id": "2943c15506014897ac6b23a19b69875e"
      }
     },
     "metadata": {},
     "output_type": "display_data"
    },
    {
     "data": {
      "text/plain": "Generating config7 split:   0%|          | 0/96048 [00:00<?, ? examples/s]",
      "application/vnd.jupyter.widget-view+json": {
       "version_major": 2,
       "version_minor": 0,
       "model_id": "3955aae3211f44ee8c0c427f59545799"
      }
     },
     "metadata": {},
     "output_type": "display_data"
    },
    {
     "data": {
      "text/plain": "Generating config8 split:   0%|          | 0/189712 [00:00<?, ? examples/s]",
      "application/vnd.jupyter.widget-view+json": {
       "version_major": 2,
       "version_minor": 0,
       "model_id": "417823a55222421097114640339158bf"
      }
     },
     "metadata": {},
     "output_type": "display_data"
    },
    {
     "data": {
      "text/plain": "Generating config9 split:   0%|          | 0/75952 [00:00<?, ? examples/s]",
      "application/vnd.jupyter.widget-view+json": {
       "version_major": 2,
       "version_minor": 0,
       "model_id": "0365702aa4bc40949b4cbfb9b128c68f"
      }
     },
     "metadata": {},
     "output_type": "display_data"
    },
    {
     "data": {
      "text/plain": "Generating config10 split:   0%|          | 0/49477 [00:00<?, ? examples/s]",
      "application/vnd.jupyter.widget-view+json": {
       "version_major": 2,
       "version_minor": 0,
       "model_id": "0e9efa5e2f884a0b872599b186e23a68"
      }
     },
     "metadata": {},
     "output_type": "display_data"
    },
    {
     "data": {
      "text/plain": "Generating config11 split:   0%|          | 0/100613 [00:00<?, ? examples/s]",
      "application/vnd.jupyter.widget-view+json": {
       "version_major": 2,
       "version_minor": 0,
       "model_id": "b56691aacee84207a7fa5d6afc99dd1b"
      }
     },
     "metadata": {},
     "output_type": "display_data"
    },
    {
     "data": {
      "text/plain": "Generating config12 split:   0%|          | 0/189285 [00:00<?, ? examples/s]",
      "application/vnd.jupyter.widget-view+json": {
       "version_major": 2,
       "version_minor": 0,
       "model_id": "028084c59906476aa0dada0cb4279d7c"
      }
     },
     "metadata": {},
     "output_type": "display_data"
    },
    {
     "data": {
      "text/plain": "Generating config13 split:   0%|          | 0/172001 [00:00<?, ? examples/s]",
      "application/vnd.jupyter.widget-view+json": {
       "version_major": 2,
       "version_minor": 0,
       "model_id": "ddae805c33054399a11c5ea9c4469d87"
      }
     },
     "metadata": {},
     "output_type": "display_data"
    },
    {
     "data": {
      "text/plain": "Generating config14 split:   0%|          | 0/116020 [00:00<?, ? examples/s]",
      "application/vnd.jupyter.widget-view+json": {
       "version_major": 2,
       "version_minor": 0,
       "model_id": "6f847cdaaf2d4a679b9a944236460355"
      }
     },
     "metadata": {},
     "output_type": "display_data"
    },
    {
     "data": {
      "text/plain": "Generating config15 split:   0%|          | 0/109363 [00:00<?, ? examples/s]",
      "application/vnd.jupyter.widget-view+json": {
       "version_major": 2,
       "version_minor": 0,
       "model_id": "2bf701702660479cb2f1981af3b15736"
      }
     },
     "metadata": {},
     "output_type": "display_data"
    },
    {
     "data": {
      "text/plain": "Generating config16 split:   0%|          | 0/110020 [00:00<?, ? examples/s]",
      "application/vnd.jupyter.widget-view+json": {
       "version_major": 2,
       "version_minor": 0,
       "model_id": "fbb242d256c847808f1837c76892305f"
      }
     },
     "metadata": {},
     "output_type": "display_data"
    },
    {
     "data": {
      "text/plain": "Generating config17 split:   0%|          | 0/84195 [00:00<?, ? examples/s]",
      "application/vnd.jupyter.widget-view+json": {
       "version_major": 2,
       "version_minor": 0,
       "model_id": "1abead5ac57a4560933e72f283e34778"
      }
     },
     "metadata": {},
     "output_type": "display_data"
    },
    {
     "data": {
      "text/plain": "Generating config18 split:   0%|          | 0/126148 [00:00<?, ? examples/s]",
      "application/vnd.jupyter.widget-view+json": {
       "version_major": 2,
       "version_minor": 0,
       "model_id": "e6f7952a8a314eb7a3451b0d38080a05"
      }
     },
     "metadata": {},
     "output_type": "display_data"
    },
    {
     "data": {
      "text/plain": "Generating config19 split:   0%|          | 0/44274 [00:00<?, ? examples/s]",
      "application/vnd.jupyter.widget-view+json": {
       "version_major": 2,
       "version_minor": 0,
       "model_id": "f494f81122044f919995d56688443b74"
      }
     },
     "metadata": {},
     "output_type": "display_data"
    },
    {
     "data": {
      "text/plain": "Generating config20 split:   0%|          | 0/92432 [00:00<?, ? examples/s]",
      "application/vnd.jupyter.widget-view+json": {
       "version_major": 2,
       "version_minor": 0,
       "model_id": "c5a8063b12b74be5b0d1d6c27a3f8274"
      }
     },
     "metadata": {},
     "output_type": "display_data"
    },
    {
     "data": {
      "text/plain": "Generating config21 split:   0%|          | 0/91186 [00:00<?, ? examples/s]",
      "application/vnd.jupyter.widget-view+json": {
       "version_major": 2,
       "version_minor": 0,
       "model_id": "e4fd1e4330594a1e9bce8fad5ed24bf6"
      }
     },
     "metadata": {},
     "output_type": "display_data"
    },
    {
     "data": {
      "text/plain": "Generating config22 split:   0%|          | 0/93171 [00:00<?, ? examples/s]",
      "application/vnd.jupyter.widget-view+json": {
       "version_major": 2,
       "version_minor": 0,
       "model_id": "5172f55db54b40f69d5c4e10a632d7a1"
      }
     },
     "metadata": {},
     "output_type": "display_data"
    },
    {
     "data": {
      "text/plain": "Generating config23 split:   0%|          | 0/73458 [00:00<?, ? examples/s]",
      "application/vnd.jupyter.widget-view+json": {
       "version_major": 2,
       "version_minor": 0,
       "model_id": "4c4ed49dfb9b409f872df7444287f76a"
      }
     },
     "metadata": {},
     "output_type": "display_data"
    },
    {
     "data": {
      "text/plain": "Generating config24 split:   0%|          | 0/95037 [00:00<?, ? examples/s]",
      "application/vnd.jupyter.widget-view+json": {
       "version_major": 2,
       "version_minor": 0,
       "model_id": "42bd1fd36d14451c8ad662f8fd9e74ec"
      }
     },
     "metadata": {},
     "output_type": "display_data"
    },
    {
     "data": {
      "text/plain": "Generating config25 split:   0%|          | 0/118558 [00:00<?, ? examples/s]",
      "application/vnd.jupyter.widget-view+json": {
       "version_major": 2,
       "version_minor": 0,
       "model_id": "2c090a6aac5d4206ae2bd3e1bf198f82"
      }
     },
     "metadata": {},
     "output_type": "display_data"
    },
    {
     "data": {
      "text/plain": "Generating config26 split:   0%|          | 0/147431 [00:00<?, ? examples/s]",
      "application/vnd.jupyter.widget-view+json": {
       "version_major": 2,
       "version_minor": 0,
       "model_id": "b82e2ff85cbb47bfa24cb06aadbe0d42"
      }
     },
     "metadata": {},
     "output_type": "display_data"
    },
    {
     "data": {
      "text/plain": "Generating config27 split:   0%|          | 0/61803 [00:00<?, ? examples/s]",
      "application/vnd.jupyter.widget-view+json": {
       "version_major": 2,
       "version_minor": 0,
       "model_id": "98bcc40392a046b4ab944dd095931339"
      }
     },
     "metadata": {},
     "output_type": "display_data"
    },
    {
     "data": {
      "text/plain": "Generating config28 split:   0%|          | 0/100282 [00:00<?, ? examples/s]",
      "application/vnd.jupyter.widget-view+json": {
       "version_major": 2,
       "version_minor": 0,
       "model_id": "617ca683ba454d339cbcb4c59b783bdf"
      }
     },
     "metadata": {},
     "output_type": "display_data"
    },
    {
     "data": {
      "text/plain": "Generating config29 split:   0%|          | 0/87382 [00:00<?, ? examples/s]",
      "application/vnd.jupyter.widget-view+json": {
       "version_major": 2,
       "version_minor": 0,
       "model_id": "70d7043b192a42718d73d28eb57470f5"
      }
     },
     "metadata": {},
     "output_type": "display_data"
    },
    {
     "data": {
      "text/plain": "Generating config30 split:   0%|          | 0/31757 [00:00<?, ? examples/s]",
      "application/vnd.jupyter.widget-view+json": {
       "version_major": 2,
       "version_minor": 0,
       "model_id": "85d98a2ffd4848b0bb16cf8048c3c06f"
      }
     },
     "metadata": {},
     "output_type": "display_data"
    },
    {
     "data": {
      "text/plain": "Generating config31 split:   0%|          | 0/58432 [00:00<?, ? examples/s]",
      "application/vnd.jupyter.widget-view+json": {
       "version_major": 2,
       "version_minor": 0,
       "model_id": "c729baedf0cc4c4197d6abd87cd42d2d"
      }
     },
     "metadata": {},
     "output_type": "display_data"
    }
   ],
   "source": [
    "corpus = load_dataset(\"HydraLM/SkunkData-Corpus-Clusters-001\")\n"
   ],
   "metadata": {
    "collapsed": false,
    "ExecuteTime": {
     "end_time": "2023-09-15T09:51:05.834791Z",
     "start_time": "2023-09-15T09:49:09.281202Z"
    }
   },
   "id": "78f520c41f57045f"
  },
  {
   "cell_type": "code",
   "execution_count": 31,
   "outputs": [
    {
     "data": {
      "text/plain": "DatasetDict({\n    config0: Dataset({\n        features: ['message', 'message_type', 'message_id', 'conversation_id', 'dataset_id', 'unique_conversation_id', 'cluster', '__index_level_0__'],\n        num_rows: 99425\n    })\n    config1: Dataset({\n        features: ['message', 'message_type', 'message_id', 'conversation_id', 'dataset_id', 'unique_conversation_id', 'cluster', '__index_level_0__'],\n        num_rows: 125333\n    })\n    config2: Dataset({\n        features: ['message', 'message_type', 'message_id', 'conversation_id', 'dataset_id', 'unique_conversation_id', 'cluster', '__index_level_0__'],\n        num_rows: 142226\n    })\n    config3: Dataset({\n        features: ['message', 'message_type', 'message_id', 'conversation_id', 'dataset_id', 'unique_conversation_id', 'cluster', '__index_level_0__'],\n        num_rows: 95365\n    })\n    config4: Dataset({\n        features: ['message', 'message_type', 'message_id', 'conversation_id', 'dataset_id', 'unique_conversation_id', 'cluster', '__index_level_0__'],\n        num_rows: 160680\n    })\n    config5: Dataset({\n        features: ['message', 'message_type', 'message_id', 'conversation_id', 'dataset_id', 'unique_conversation_id', 'cluster', '__index_level_0__'],\n        num_rows: 73168\n    })\n    config6: Dataset({\n        features: ['message', 'message_type', 'message_id', 'conversation_id', 'dataset_id', 'unique_conversation_id', 'cluster', '__index_level_0__'],\n        num_rows: 68399\n    })\n    config7: Dataset({\n        features: ['message', 'message_type', 'message_id', 'conversation_id', 'dataset_id', 'unique_conversation_id', 'cluster', '__index_level_0__'],\n        num_rows: 96048\n    })\n    config8: Dataset({\n        features: ['message', 'message_type', 'message_id', 'conversation_id', 'dataset_id', 'unique_conversation_id', 'cluster', '__index_level_0__'],\n        num_rows: 189712\n    })\n    config9: Dataset({\n        features: ['message', 'message_type', 'message_id', 'conversation_id', 'dataset_id', 'unique_conversation_id', 'cluster', '__index_level_0__'],\n        num_rows: 75952\n    })\n    config10: Dataset({\n        features: ['message', 'message_type', 'message_id', 'conversation_id', 'dataset_id', 'unique_conversation_id', 'cluster', '__index_level_0__'],\n        num_rows: 49477\n    })\n    config11: Dataset({\n        features: ['message', 'message_type', 'message_id', 'conversation_id', 'dataset_id', 'unique_conversation_id', 'cluster', '__index_level_0__'],\n        num_rows: 100613\n    })\n    config12: Dataset({\n        features: ['message', 'message_type', 'message_id', 'conversation_id', 'dataset_id', 'unique_conversation_id', 'cluster', '__index_level_0__'],\n        num_rows: 189285\n    })\n    config13: Dataset({\n        features: ['message', 'message_type', 'message_id', 'conversation_id', 'dataset_id', 'unique_conversation_id', 'cluster', '__index_level_0__'],\n        num_rows: 172001\n    })\n    config14: Dataset({\n        features: ['message', 'message_type', 'message_id', 'conversation_id', 'dataset_id', 'unique_conversation_id', 'cluster', '__index_level_0__'],\n        num_rows: 116020\n    })\n    config15: Dataset({\n        features: ['message', 'message_type', 'message_id', 'conversation_id', 'dataset_id', 'unique_conversation_id', 'cluster', '__index_level_0__'],\n        num_rows: 109363\n    })\n    config16: Dataset({\n        features: ['message', 'message_type', 'message_id', 'conversation_id', 'dataset_id', 'unique_conversation_id', 'cluster', '__index_level_0__'],\n        num_rows: 110020\n    })\n    config17: Dataset({\n        features: ['message', 'message_type', 'message_id', 'conversation_id', 'dataset_id', 'unique_conversation_id', 'cluster', '__index_level_0__'],\n        num_rows: 84195\n    })\n    config18: Dataset({\n        features: ['message', 'message_type', 'message_id', 'conversation_id', 'dataset_id', 'unique_conversation_id', 'cluster', '__index_level_0__'],\n        num_rows: 126148\n    })\n    config19: Dataset({\n        features: ['message', 'message_type', 'message_id', 'conversation_id', 'dataset_id', 'unique_conversation_id', 'cluster', '__index_level_0__'],\n        num_rows: 44274\n    })\n    config20: Dataset({\n        features: ['message', 'message_type', 'message_id', 'conversation_id', 'dataset_id', 'unique_conversation_id', 'cluster', '__index_level_0__'],\n        num_rows: 92432\n    })\n    config21: Dataset({\n        features: ['message', 'message_type', 'message_id', 'conversation_id', 'dataset_id', 'unique_conversation_id', 'cluster', '__index_level_0__'],\n        num_rows: 91186\n    })\n    config22: Dataset({\n        features: ['message', 'message_type', 'message_id', 'conversation_id', 'dataset_id', 'unique_conversation_id', 'cluster', '__index_level_0__'],\n        num_rows: 93171\n    })\n    config23: Dataset({\n        features: ['message', 'message_type', 'message_id', 'conversation_id', 'dataset_id', 'unique_conversation_id', 'cluster', '__index_level_0__'],\n        num_rows: 73458\n    })\n    config24: Dataset({\n        features: ['message', 'message_type', 'message_id', 'conversation_id', 'dataset_id', 'unique_conversation_id', 'cluster', '__index_level_0__'],\n        num_rows: 95037\n    })\n    config25: Dataset({\n        features: ['message', 'message_type', 'message_id', 'conversation_id', 'dataset_id', 'unique_conversation_id', 'cluster', '__index_level_0__'],\n        num_rows: 118558\n    })\n    config26: Dataset({\n        features: ['message', 'message_type', 'message_id', 'conversation_id', 'dataset_id', 'unique_conversation_id', 'cluster', '__index_level_0__'],\n        num_rows: 147431\n    })\n    config27: Dataset({\n        features: ['message', 'message_type', 'message_id', 'conversation_id', 'dataset_id', 'unique_conversation_id', 'cluster', '__index_level_0__'],\n        num_rows: 61803\n    })\n    config28: Dataset({\n        features: ['message', 'message_type', 'message_id', 'conversation_id', 'dataset_id', 'unique_conversation_id', 'cluster', '__index_level_0__'],\n        num_rows: 100282\n    })\n    config29: Dataset({\n        features: ['message', 'message_type', 'message_id', 'conversation_id', 'dataset_id', 'unique_conversation_id', 'cluster', '__index_level_0__'],\n        num_rows: 87382\n    })\n    config30: Dataset({\n        features: ['message', 'message_type', 'message_id', 'conversation_id', 'dataset_id', 'unique_conversation_id', 'cluster', '__index_level_0__'],\n        num_rows: 31757\n    })\n    config31: Dataset({\n        features: ['message', 'message_type', 'message_id', 'conversation_id', 'dataset_id', 'unique_conversation_id', 'cluster', '__index_level_0__'],\n        num_rows: 58432\n    })\n})"
     },
     "execution_count": 31,
     "metadata": {},
     "output_type": "execute_result"
    }
   ],
   "source": [
    "corpus"
   ],
   "metadata": {
    "collapsed": false,
    "ExecuteTime": {
     "end_time": "2023-09-15T09:51:14.888422Z",
     "start_time": "2023-09-15T09:51:14.884168Z"
    }
   },
   "id": "6b02066b2786dbca"
  },
  {
   "cell_type": "code",
   "execution_count": 32,
   "outputs": [],
   "source": [
    "corpus = corpus.remove_columns(\"__index_level_0__\")"
   ],
   "metadata": {
    "collapsed": false,
    "ExecuteTime": {
     "end_time": "2023-09-15T09:51:21.901632Z",
     "start_time": "2023-09-15T09:51:21.872553Z"
    }
   },
   "id": "69682f3f380e9ac5"
  },
  {
   "cell_type": "code",
   "execution_count": 33,
   "outputs": [
    {
     "data": {
      "text/plain": "DatasetDict({\n    config0: Dataset({\n        features: ['message', 'message_type', 'message_id', 'conversation_id', 'dataset_id', 'unique_conversation_id', 'cluster'],\n        num_rows: 99425\n    })\n    config1: Dataset({\n        features: ['message', 'message_type', 'message_id', 'conversation_id', 'dataset_id', 'unique_conversation_id', 'cluster'],\n        num_rows: 125333\n    })\n    config2: Dataset({\n        features: ['message', 'message_type', 'message_id', 'conversation_id', 'dataset_id', 'unique_conversation_id', 'cluster'],\n        num_rows: 142226\n    })\n    config3: Dataset({\n        features: ['message', 'message_type', 'message_id', 'conversation_id', 'dataset_id', 'unique_conversation_id', 'cluster'],\n        num_rows: 95365\n    })\n    config4: Dataset({\n        features: ['message', 'message_type', 'message_id', 'conversation_id', 'dataset_id', 'unique_conversation_id', 'cluster'],\n        num_rows: 160680\n    })\n    config5: Dataset({\n        features: ['message', 'message_type', 'message_id', 'conversation_id', 'dataset_id', 'unique_conversation_id', 'cluster'],\n        num_rows: 73168\n    })\n    config6: Dataset({\n        features: ['message', 'message_type', 'message_id', 'conversation_id', 'dataset_id', 'unique_conversation_id', 'cluster'],\n        num_rows: 68399\n    })\n    config7: Dataset({\n        features: ['message', 'message_type', 'message_id', 'conversation_id', 'dataset_id', 'unique_conversation_id', 'cluster'],\n        num_rows: 96048\n    })\n    config8: Dataset({\n        features: ['message', 'message_type', 'message_id', 'conversation_id', 'dataset_id', 'unique_conversation_id', 'cluster'],\n        num_rows: 189712\n    })\n    config9: Dataset({\n        features: ['message', 'message_type', 'message_id', 'conversation_id', 'dataset_id', 'unique_conversation_id', 'cluster'],\n        num_rows: 75952\n    })\n    config10: Dataset({\n        features: ['message', 'message_type', 'message_id', 'conversation_id', 'dataset_id', 'unique_conversation_id', 'cluster'],\n        num_rows: 49477\n    })\n    config11: Dataset({\n        features: ['message', 'message_type', 'message_id', 'conversation_id', 'dataset_id', 'unique_conversation_id', 'cluster'],\n        num_rows: 100613\n    })\n    config12: Dataset({\n        features: ['message', 'message_type', 'message_id', 'conversation_id', 'dataset_id', 'unique_conversation_id', 'cluster'],\n        num_rows: 189285\n    })\n    config13: Dataset({\n        features: ['message', 'message_type', 'message_id', 'conversation_id', 'dataset_id', 'unique_conversation_id', 'cluster'],\n        num_rows: 172001\n    })\n    config14: Dataset({\n        features: ['message', 'message_type', 'message_id', 'conversation_id', 'dataset_id', 'unique_conversation_id', 'cluster'],\n        num_rows: 116020\n    })\n    config15: Dataset({\n        features: ['message', 'message_type', 'message_id', 'conversation_id', 'dataset_id', 'unique_conversation_id', 'cluster'],\n        num_rows: 109363\n    })\n    config16: Dataset({\n        features: ['message', 'message_type', 'message_id', 'conversation_id', 'dataset_id', 'unique_conversation_id', 'cluster'],\n        num_rows: 110020\n    })\n    config17: Dataset({\n        features: ['message', 'message_type', 'message_id', 'conversation_id', 'dataset_id', 'unique_conversation_id', 'cluster'],\n        num_rows: 84195\n    })\n    config18: Dataset({\n        features: ['message', 'message_type', 'message_id', 'conversation_id', 'dataset_id', 'unique_conversation_id', 'cluster'],\n        num_rows: 126148\n    })\n    config19: Dataset({\n        features: ['message', 'message_type', 'message_id', 'conversation_id', 'dataset_id', 'unique_conversation_id', 'cluster'],\n        num_rows: 44274\n    })\n    config20: Dataset({\n        features: ['message', 'message_type', 'message_id', 'conversation_id', 'dataset_id', 'unique_conversation_id', 'cluster'],\n        num_rows: 92432\n    })\n    config21: Dataset({\n        features: ['message', 'message_type', 'message_id', 'conversation_id', 'dataset_id', 'unique_conversation_id', 'cluster'],\n        num_rows: 91186\n    })\n    config22: Dataset({\n        features: ['message', 'message_type', 'message_id', 'conversation_id', 'dataset_id', 'unique_conversation_id', 'cluster'],\n        num_rows: 93171\n    })\n    config23: Dataset({\n        features: ['message', 'message_type', 'message_id', 'conversation_id', 'dataset_id', 'unique_conversation_id', 'cluster'],\n        num_rows: 73458\n    })\n    config24: Dataset({\n        features: ['message', 'message_type', 'message_id', 'conversation_id', 'dataset_id', 'unique_conversation_id', 'cluster'],\n        num_rows: 95037\n    })\n    config25: Dataset({\n        features: ['message', 'message_type', 'message_id', 'conversation_id', 'dataset_id', 'unique_conversation_id', 'cluster'],\n        num_rows: 118558\n    })\n    config26: Dataset({\n        features: ['message', 'message_type', 'message_id', 'conversation_id', 'dataset_id', 'unique_conversation_id', 'cluster'],\n        num_rows: 147431\n    })\n    config27: Dataset({\n        features: ['message', 'message_type', 'message_id', 'conversation_id', 'dataset_id', 'unique_conversation_id', 'cluster'],\n        num_rows: 61803\n    })\n    config28: Dataset({\n        features: ['message', 'message_type', 'message_id', 'conversation_id', 'dataset_id', 'unique_conversation_id', 'cluster'],\n        num_rows: 100282\n    })\n    config29: Dataset({\n        features: ['message', 'message_type', 'message_id', 'conversation_id', 'dataset_id', 'unique_conversation_id', 'cluster'],\n        num_rows: 87382\n    })\n    config30: Dataset({\n        features: ['message', 'message_type', 'message_id', 'conversation_id', 'dataset_id', 'unique_conversation_id', 'cluster'],\n        num_rows: 31757\n    })\n    config31: Dataset({\n        features: ['message', 'message_type', 'message_id', 'conversation_id', 'dataset_id', 'unique_conversation_id', 'cluster'],\n        num_rows: 58432\n    })\n})"
     },
     "execution_count": 33,
     "metadata": {},
     "output_type": "execute_result"
    }
   ],
   "source": [
    "corpus"
   ],
   "metadata": {
    "collapsed": false,
    "ExecuteTime": {
     "end_time": "2023-09-15T09:51:24.169553Z",
     "start_time": "2023-09-15T09:51:24.165421Z"
    }
   },
   "id": "f109d23d509424f9"
  },
  {
   "cell_type": "code",
   "execution_count": 34,
   "outputs": [],
   "source": [
    "def user_assistant_template(conversation, max_words=1400):\n",
    "    # sort by message_id\n",
    "    conversation = sorted(conversation, key=lambda x: x[\"message_id\"])\n",
    "    output = f\"{conversation.pop()['message']}\"\n",
    "    input = \"### User:\"\n",
    "\n",
    "    for message in conversation:\n",
    "        if message[\"message_type\"] == \"instruction\" or message[\"message_type\"] == \"input\":\n",
    "            input += f\"\\n{message['message'].strip()}\" if message['message'].strip() != \"\" else \"\"\n",
    "\n",
    "        elif message[\"message_type\"] == \"output\":\n",
    "            input += f\"\\n\\n### Assistant:\\n{message['message']}\\n\\n### User:\"\n",
    "\n",
    "    input += \"\\n\\n### Assistant:\\n\"\n",
    "\n",
    "    if len(input.split()) > max_words:\n",
    "        input = \" \".join(input.split(\" \")[-max_words:])\n",
    "\n",
    "    instruction_start = input.find(\"### User:\")\n",
    "    input = input[instruction_start:]\n",
    "    return [{\"input\": input, \"output\": output}]"
   ],
   "metadata": {
    "collapsed": false,
    "ExecuteTime": {
     "end_time": "2023-09-15T09:51:29.962396Z",
     "start_time": "2023-09-15T09:51:29.959463Z"
    }
   },
   "id": "e10a450ac2234685"
  },
  {
   "cell_type": "code",
   "execution_count": 37,
   "outputs": [],
   "source": [
    "from datasets import Dataset\n",
    "import pandas as pd\n",
    "\n",
    "def sort_Dataset_by_multiple_keys(dataset, keys):\n",
    "    df = dataset.to_pandas()\n",
    "    df = df.sort_values(by=keys)\n",
    "    return Dataset.from_pandas(df)\n",
    "\n",
    "\n",
    "def format(path_or_dataset, template_func, filter_key=\"unique_conversation_id\",\n",
    "           sort_keys=[\"dataset_id\", \"conversation_id\", \"message_id\"], split=None):\n",
    "    dataset = load_dataset(path_or_dataset) if isinstance(path_or_dataset, str) else path_or_dataset\n",
    "    data = dataset[split] if split else dataset\n",
    "    data = sort_Dataset_by_multiple_keys(data, sort_keys)\n",
    "\n",
    "    formatted = []\n",
    "    current_filter_key = data[0][filter_key]\n",
    "    conversation = []\n",
    "\n",
    "    for message in data:\n",
    "        if message[filter_key] != current_filter_key:\n",
    "            formatted += template_func(conversation)\n",
    "            current_filter_key = message[filter_key]\n",
    "            conversation = []\n",
    "        conversation += [message]\n",
    "\n",
    "    return Dataset.from_pandas(pd.DataFrame(data=formatted))\n"
   ],
   "metadata": {
    "collapsed": false,
    "ExecuteTime": {
     "end_time": "2023-09-15T09:53:39.435603Z",
     "start_time": "2023-09-15T09:53:39.432952Z"
    }
   },
   "id": "7fada201c2c71892"
  },
  {
   "cell_type": "code",
   "execution_count": 38,
   "outputs": [],
   "source": [
    "from datasets import DatasetDict, Dataset\n",
    "new_corpus = DatasetDict()\n",
    "for cluster_dataset in corpus:\n",
    "    new_corpus[cluster_dataset] = format(corpus[cluster_dataset], user_assistant_template, filter_key=\"unique_conversation_id\")"
   ],
   "metadata": {
    "collapsed": false,
    "ExecuteTime": {
     "end_time": "2023-09-15T09:55:24.248183Z",
     "start_time": "2023-09-15T09:53:39.953386Z"
    }
   },
   "id": "e4babb1ec6e7ed75"
  },
  {
   "cell_type": "code",
   "execution_count": 39,
   "outputs": [
    {
     "data": {
      "text/plain": "DatasetDict({\n    config0: Dataset({\n        features: ['input', 'output'],\n        num_rows: 45617\n    })\n    config1: Dataset({\n        features: ['input', 'output'],\n        num_rows: 57017\n    })\n    config2: Dataset({\n        features: ['input', 'output'],\n        num_rows: 59271\n    })\n    config3: Dataset({\n        features: ['input', 'output'],\n        num_rows: 41544\n    })\n    config4: Dataset({\n        features: ['input', 'output'],\n        num_rows: 72587\n    })\n    config5: Dataset({\n        features: ['input', 'output'],\n        num_rows: 34080\n    })\n    config6: Dataset({\n        features: ['input', 'output'],\n        num_rows: 30203\n    })\n    config7: Dataset({\n        features: ['input', 'output'],\n        num_rows: 36365\n    })\n    config8: Dataset({\n        features: ['input', 'output'],\n        num_rows: 82654\n    })\n    config9: Dataset({\n        features: ['input', 'output'],\n        num_rows: 34266\n    })\n    config10: Dataset({\n        features: ['input', 'output'],\n        num_rows: 22221\n    })\n    config11: Dataset({\n        features: ['input', 'output'],\n        num_rows: 43502\n    })\n    config12: Dataset({\n        features: ['input', 'output'],\n        num_rows: 90729\n    })\n    config13: Dataset({\n        features: ['input', 'output'],\n        num_rows: 77149\n    })\n    config14: Dataset({\n        features: ['input', 'output'],\n        num_rows: 53042\n    })\n    config15: Dataset({\n        features: ['input', 'output'],\n        num_rows: 49714\n    })\n    config16: Dataset({\n        features: ['input', 'output'],\n        num_rows: 51517\n    })\n    config17: Dataset({\n        features: ['input', 'output'],\n        num_rows: 39622\n    })\n    config18: Dataset({\n        features: ['input', 'output'],\n        num_rows: 54708\n    })\n    config19: Dataset({\n        features: ['input', 'output'],\n        num_rows: 21282\n    })\n    config20: Dataset({\n        features: ['input', 'output'],\n        num_rows: 42830\n    })\n    config21: Dataset({\n        features: ['input', 'output'],\n        num_rows: 41104\n    })\n    config22: Dataset({\n        features: ['input', 'output'],\n        num_rows: 42586\n    })\n    config23: Dataset({\n        features: ['input', 'output'],\n        num_rows: 35260\n    })\n    config24: Dataset({\n        features: ['input', 'output'],\n        num_rows: 45451\n    })\n    config25: Dataset({\n        features: ['input', 'output'],\n        num_rows: 55974\n    })\n    config26: Dataset({\n        features: ['input', 'output'],\n        num_rows: 60773\n    })\n    config27: Dataset({\n        features: ['input', 'output'],\n        num_rows: 29582\n    })\n    config28: Dataset({\n        features: ['input', 'output'],\n        num_rows: 47177\n    })\n    config29: Dataset({\n        features: ['input', 'output'],\n        num_rows: 32707\n    })\n    config30: Dataset({\n        features: ['input', 'output'],\n        num_rows: 15399\n    })\n    config31: Dataset({\n        features: ['input', 'output'],\n        num_rows: 26952\n    })\n})"
     },
     "execution_count": 39,
     "metadata": {},
     "output_type": "execute_result"
    }
   ],
   "source": [
    "new_corpus"
   ],
   "metadata": {
    "collapsed": false,
    "ExecuteTime": {
     "end_time": "2023-09-15T09:55:24.252731Z",
     "start_time": "2023-09-15T09:55:24.249207Z"
    }
   },
   "id": "2283078b555cc76d"
  },
  {
   "cell_type": "code",
   "execution_count": 42,
   "outputs": [
    {
     "name": "stdout",
     "output_type": "stream",
     "text": [
      "### User:\n",
      "Dog-friendly hiking trails\n",
      "\n",
      "### Assistant:\n",
      "\n",
      "Sure, I can certainly provide some information on dog-friendly hiking trails, though the specific trails would depend on your location. Here are few notable ones across the United States:\n",
      "\n",
      "1. Acadia National Park, Maine: Most trails in this national park on the rugged coast of Maine are dog-friendly. The park boasts 100 miles of hiking trails and 45 miles of carriage roads where dogs are allowed. \n",
      "\n",
      "2. Runyon Canyon Park, Los Angeles, California: This 160-acre park right in the heart of LA is very popular with dog owners. It has off-leash areas so that your pup can run free, and it offers stunning views of the city. \n",
      "\n",
      "3. The Appalachian Trail, Eastern US: This iconic trail, which stretches from Georgia to Maine, allows dogs on most of its paths, but they must be leashed.\n",
      "\n",
      "4. Shenandoah National Park, Virginia: Home to 500 miles of trails, Shenandoah is one of the most dog-friendly national parks. Dogs are allowed on nearly all of the trails.\n",
      "\n",
      "5. Red Rock Canyon, Las Vegas, Nevada: Red Rock Canyon offers beautiful scenic trails for both hikers and their dogs. However, dogs must be kept on a leash.\n",
      "\n",
      "6. The Cascades, Washington: If you like a challenging hike, the Alpine Lakes Wilderness area of the Cascades is perfect for you. Dogs are allowed to accompany hikers in this area.\n",
      "\n",
      "Remember, no matter where you are hiking with your dog, it is important to check the specific rules and regulations for each trail. Some trails may require dogs to be leashed at all times, and some parks may have restrictions on where dogs can go. Always remember to clean up after your dog to ensure these beautiful trails remain enjoyable for everyone.\n"
     ]
    }
   ],
   "source": [
    "for value in new_corpus[\"config0\"][0].values():\n",
    "    print(value)"
   ],
   "metadata": {
    "collapsed": false,
    "ExecuteTime": {
     "end_time": "2023-09-15T09:58:03.221122Z",
     "start_time": "2023-09-15T09:58:03.216390Z"
    }
   },
   "id": "ab61d7d02d6f2b73"
  },
  {
   "cell_type": "code",
   "execution_count": 43,
   "outputs": [
    {
     "data": {
      "text/plain": "Pushing dataset shards to the dataset hub:   0%|          | 0/1 [00:00<?, ?it/s]",
      "application/vnd.jupyter.widget-view+json": {
       "version_major": 2,
       "version_minor": 0,
       "model_id": "857f1bcb27f44f70900fd9ad91587d45"
      }
     },
     "metadata": {},
     "output_type": "display_data"
    },
    {
     "data": {
      "text/plain": "Creating parquet from Arrow format:   0%|          | 0/46 [00:00<?, ?ba/s]",
      "application/vnd.jupyter.widget-view+json": {
       "version_major": 2,
       "version_minor": 0,
       "model_id": "c0fda0cda3414cf9ad75c840be50f232"
      }
     },
     "metadata": {},
     "output_type": "display_data"
    },
    {
     "data": {
      "text/plain": "Pushing dataset shards to the dataset hub:   0%|          | 0/1 [00:00<?, ?it/s]",
      "application/vnd.jupyter.widget-view+json": {
       "version_major": 2,
       "version_minor": 0,
       "model_id": "daf44c6dc8ca489f89e3bff762418025"
      }
     },
     "metadata": {},
     "output_type": "display_data"
    },
    {
     "data": {
      "text/plain": "Creating parquet from Arrow format:   0%|          | 0/58 [00:00<?, ?ba/s]",
      "application/vnd.jupyter.widget-view+json": {
       "version_major": 2,
       "version_minor": 0,
       "model_id": "18033888ede94d1b8525c6cc54525253"
      }
     },
     "metadata": {},
     "output_type": "display_data"
    },
    {
     "data": {
      "text/plain": "Pushing dataset shards to the dataset hub:   0%|          | 0/1 [00:00<?, ?it/s]",
      "application/vnd.jupyter.widget-view+json": {
       "version_major": 2,
       "version_minor": 0,
       "model_id": "53d6c4a07eb94ff98a79a8a0c1f55e12"
      }
     },
     "metadata": {},
     "output_type": "display_data"
    },
    {
     "data": {
      "text/plain": "Creating parquet from Arrow format:   0%|          | 0/60 [00:00<?, ?ba/s]",
      "application/vnd.jupyter.widget-view+json": {
       "version_major": 2,
       "version_minor": 0,
       "model_id": "9adcc11a78d745f084f6b148825843d4"
      }
     },
     "metadata": {},
     "output_type": "display_data"
    },
    {
     "data": {
      "text/plain": "Pushing dataset shards to the dataset hub:   0%|          | 0/1 [00:00<?, ?it/s]",
      "application/vnd.jupyter.widget-view+json": {
       "version_major": 2,
       "version_minor": 0,
       "model_id": "c77c4fe60b6e4cc586ca16ec3e2094fb"
      }
     },
     "metadata": {},
     "output_type": "display_data"
    },
    {
     "data": {
      "text/plain": "Creating parquet from Arrow format:   0%|          | 0/42 [00:00<?, ?ba/s]",
      "application/vnd.jupyter.widget-view+json": {
       "version_major": 2,
       "version_minor": 0,
       "model_id": "dc116b014ead497ba55eb2878bcc5b96"
      }
     },
     "metadata": {},
     "output_type": "display_data"
    },
    {
     "data": {
      "text/plain": "Pushing dataset shards to the dataset hub:   0%|          | 0/1 [00:00<?, ?it/s]",
      "application/vnd.jupyter.widget-view+json": {
       "version_major": 2,
       "version_minor": 0,
       "model_id": "921e3eb74d2c47a6aa32f2eb895cf214"
      }
     },
     "metadata": {},
     "output_type": "display_data"
    },
    {
     "data": {
      "text/plain": "Creating parquet from Arrow format:   0%|          | 0/73 [00:00<?, ?ba/s]",
      "application/vnd.jupyter.widget-view+json": {
       "version_major": 2,
       "version_minor": 0,
       "model_id": "82fb398e31e34dc397fe2c46b0c40dfa"
      }
     },
     "metadata": {},
     "output_type": "display_data"
    },
    {
     "data": {
      "text/plain": "Pushing dataset shards to the dataset hub:   0%|          | 0/1 [00:00<?, ?it/s]",
      "application/vnd.jupyter.widget-view+json": {
       "version_major": 2,
       "version_minor": 0,
       "model_id": "546d80f28623434884abb7a69e9899e4"
      }
     },
     "metadata": {},
     "output_type": "display_data"
    },
    {
     "data": {
      "text/plain": "Creating parquet from Arrow format:   0%|          | 0/35 [00:00<?, ?ba/s]",
      "application/vnd.jupyter.widget-view+json": {
       "version_major": 2,
       "version_minor": 0,
       "model_id": "31d9aa84bb1f41a489ff7fa8037dc6ee"
      }
     },
     "metadata": {},
     "output_type": "display_data"
    },
    {
     "data": {
      "text/plain": "Pushing dataset shards to the dataset hub:   0%|          | 0/1 [00:00<?, ?it/s]",
      "application/vnd.jupyter.widget-view+json": {
       "version_major": 2,
       "version_minor": 0,
       "model_id": "62e94ff4450649b1bfe8fbd16ecbaa99"
      }
     },
     "metadata": {},
     "output_type": "display_data"
    },
    {
     "data": {
      "text/plain": "Creating parquet from Arrow format:   0%|          | 0/31 [00:00<?, ?ba/s]",
      "application/vnd.jupyter.widget-view+json": {
       "version_major": 2,
       "version_minor": 0,
       "model_id": "e43a49be61494ad481421f008368f1cb"
      }
     },
     "metadata": {},
     "output_type": "display_data"
    },
    {
     "data": {
      "text/plain": "Pushing dataset shards to the dataset hub:   0%|          | 0/1 [00:00<?, ?it/s]",
      "application/vnd.jupyter.widget-view+json": {
       "version_major": 2,
       "version_minor": 0,
       "model_id": "1a003ec2c0014d69b5741f2b06cae049"
      }
     },
     "metadata": {},
     "output_type": "display_data"
    },
    {
     "data": {
      "text/plain": "Creating parquet from Arrow format:   0%|          | 0/37 [00:00<?, ?ba/s]",
      "application/vnd.jupyter.widget-view+json": {
       "version_major": 2,
       "version_minor": 0,
       "model_id": "e6a0dc0b317e42a481fb0c653ed097f9"
      }
     },
     "metadata": {},
     "output_type": "display_data"
    },
    {
     "data": {
      "text/plain": "Pushing dataset shards to the dataset hub:   0%|          | 0/1 [00:00<?, ?it/s]",
      "application/vnd.jupyter.widget-view+json": {
       "version_major": 2,
       "version_minor": 0,
       "model_id": "f95868e10b074b07be41beaf259fe38f"
      }
     },
     "metadata": {},
     "output_type": "display_data"
    },
    {
     "data": {
      "text/plain": "Creating parquet from Arrow format:   0%|          | 0/83 [00:00<?, ?ba/s]",
      "application/vnd.jupyter.widget-view+json": {
       "version_major": 2,
       "version_minor": 0,
       "model_id": "8e347d509fdf4aa68281bb56b6885b2e"
      }
     },
     "metadata": {},
     "output_type": "display_data"
    },
    {
     "data": {
      "text/plain": "Pushing dataset shards to the dataset hub:   0%|          | 0/1 [00:00<?, ?it/s]",
      "application/vnd.jupyter.widget-view+json": {
       "version_major": 2,
       "version_minor": 0,
       "model_id": "d515dab464484a85a09574946db21d6a"
      }
     },
     "metadata": {},
     "output_type": "display_data"
    },
    {
     "data": {
      "text/plain": "Creating parquet from Arrow format:   0%|          | 0/35 [00:00<?, ?ba/s]",
      "application/vnd.jupyter.widget-view+json": {
       "version_major": 2,
       "version_minor": 0,
       "model_id": "e909e3f5cead4670afc2e01c3951528c"
      }
     },
     "metadata": {},
     "output_type": "display_data"
    },
    {
     "data": {
      "text/plain": "Pushing dataset shards to the dataset hub:   0%|          | 0/1 [00:00<?, ?it/s]",
      "application/vnd.jupyter.widget-view+json": {
       "version_major": 2,
       "version_minor": 0,
       "model_id": "4511b4dc76dc453cba6636729ebda575"
      }
     },
     "metadata": {},
     "output_type": "display_data"
    },
    {
     "data": {
      "text/plain": "Creating parquet from Arrow format:   0%|          | 0/23 [00:00<?, ?ba/s]",
      "application/vnd.jupyter.widget-view+json": {
       "version_major": 2,
       "version_minor": 0,
       "model_id": "2339ff078a2b4d98a4a255c06d69146b"
      }
     },
     "metadata": {},
     "output_type": "display_data"
    },
    {
     "data": {
      "text/plain": "Pushing dataset shards to the dataset hub:   0%|          | 0/1 [00:00<?, ?it/s]",
      "application/vnd.jupyter.widget-view+json": {
       "version_major": 2,
       "version_minor": 0,
       "model_id": "ef2e0bba32b54337b12c0eefcb8230a0"
      }
     },
     "metadata": {},
     "output_type": "display_data"
    },
    {
     "data": {
      "text/plain": "Creating parquet from Arrow format:   0%|          | 0/44 [00:00<?, ?ba/s]",
      "application/vnd.jupyter.widget-view+json": {
       "version_major": 2,
       "version_minor": 0,
       "model_id": "22b48c71cb474989a0a0015a20aecb80"
      }
     },
     "metadata": {},
     "output_type": "display_data"
    },
    {
     "data": {
      "text/plain": "Pushing dataset shards to the dataset hub:   0%|          | 0/1 [00:00<?, ?it/s]",
      "application/vnd.jupyter.widget-view+json": {
       "version_major": 2,
       "version_minor": 0,
       "model_id": "6b19dac7796448a9b8ce4890b88cf46d"
      }
     },
     "metadata": {},
     "output_type": "display_data"
    },
    {
     "data": {
      "text/plain": "Creating parquet from Arrow format:   0%|          | 0/91 [00:00<?, ?ba/s]",
      "application/vnd.jupyter.widget-view+json": {
       "version_major": 2,
       "version_minor": 0,
       "model_id": "b34fc278b31247fe844ca1130626d66f"
      }
     },
     "metadata": {},
     "output_type": "display_data"
    },
    {
     "data": {
      "text/plain": "Pushing dataset shards to the dataset hub:   0%|          | 0/1 [00:00<?, ?it/s]",
      "application/vnd.jupyter.widget-view+json": {
       "version_major": 2,
       "version_minor": 0,
       "model_id": "ffa309a9a696494f822000a3bcab766d"
      }
     },
     "metadata": {},
     "output_type": "display_data"
    },
    {
     "data": {
      "text/plain": "Creating parquet from Arrow format:   0%|          | 0/78 [00:00<?, ?ba/s]",
      "application/vnd.jupyter.widget-view+json": {
       "version_major": 2,
       "version_minor": 0,
       "model_id": "2640edc1769c41589ef866481d0546e0"
      }
     },
     "metadata": {},
     "output_type": "display_data"
    },
    {
     "data": {
      "text/plain": "Pushing dataset shards to the dataset hub:   0%|          | 0/1 [00:00<?, ?it/s]",
      "application/vnd.jupyter.widget-view+json": {
       "version_major": 2,
       "version_minor": 0,
       "model_id": "ed54870d0493459ea02cae51d53b8428"
      }
     },
     "metadata": {},
     "output_type": "display_data"
    },
    {
     "data": {
      "text/plain": "Creating parquet from Arrow format:   0%|          | 0/54 [00:00<?, ?ba/s]",
      "application/vnd.jupyter.widget-view+json": {
       "version_major": 2,
       "version_minor": 0,
       "model_id": "2532a968416d415fa4b800a33e4a0667"
      }
     },
     "metadata": {},
     "output_type": "display_data"
    },
    {
     "data": {
      "text/plain": "Pushing dataset shards to the dataset hub:   0%|          | 0/1 [00:00<?, ?it/s]",
      "application/vnd.jupyter.widget-view+json": {
       "version_major": 2,
       "version_minor": 0,
       "model_id": "3363e82f800a4dc7a87e450a27c4a6e4"
      }
     },
     "metadata": {},
     "output_type": "display_data"
    },
    {
     "data": {
      "text/plain": "Creating parquet from Arrow format:   0%|          | 0/50 [00:00<?, ?ba/s]",
      "application/vnd.jupyter.widget-view+json": {
       "version_major": 2,
       "version_minor": 0,
       "model_id": "f9cbc00898864ca28f80060284bf3a0a"
      }
     },
     "metadata": {},
     "output_type": "display_data"
    },
    {
     "data": {
      "text/plain": "Pushing dataset shards to the dataset hub:   0%|          | 0/1 [00:00<?, ?it/s]",
      "application/vnd.jupyter.widget-view+json": {
       "version_major": 2,
       "version_minor": 0,
       "model_id": "b684aad1d2744952b7a1205c486e802b"
      }
     },
     "metadata": {},
     "output_type": "display_data"
    },
    {
     "data": {
      "text/plain": "Creating parquet from Arrow format:   0%|          | 0/52 [00:00<?, ?ba/s]",
      "application/vnd.jupyter.widget-view+json": {
       "version_major": 2,
       "version_minor": 0,
       "model_id": "8339f853b69a474daf692c3f7d0102c1"
      }
     },
     "metadata": {},
     "output_type": "display_data"
    },
    {
     "data": {
      "text/plain": "Pushing dataset shards to the dataset hub:   0%|          | 0/1 [00:00<?, ?it/s]",
      "application/vnd.jupyter.widget-view+json": {
       "version_major": 2,
       "version_minor": 0,
       "model_id": "431f52d9f37a40568ae237e2588416c9"
      }
     },
     "metadata": {},
     "output_type": "display_data"
    },
    {
     "data": {
      "text/plain": "Creating parquet from Arrow format:   0%|          | 0/40 [00:00<?, ?ba/s]",
      "application/vnd.jupyter.widget-view+json": {
       "version_major": 2,
       "version_minor": 0,
       "model_id": "324c8151b1ed4bec85eb2ed4fc695a5d"
      }
     },
     "metadata": {},
     "output_type": "display_data"
    },
    {
     "data": {
      "text/plain": "Pushing dataset shards to the dataset hub:   0%|          | 0/1 [00:00<?, ?it/s]",
      "application/vnd.jupyter.widget-view+json": {
       "version_major": 2,
       "version_minor": 0,
       "model_id": "c153ecdb157e4ba8891dbfaa59925fcc"
      }
     },
     "metadata": {},
     "output_type": "display_data"
    },
    {
     "data": {
      "text/plain": "Creating parquet from Arrow format:   0%|          | 0/55 [00:00<?, ?ba/s]",
      "application/vnd.jupyter.widget-view+json": {
       "version_major": 2,
       "version_minor": 0,
       "model_id": "1a747f1e0bb04060b7fdfbfe663cb9bc"
      }
     },
     "metadata": {},
     "output_type": "display_data"
    },
    {
     "data": {
      "text/plain": "Pushing dataset shards to the dataset hub:   0%|          | 0/1 [00:00<?, ?it/s]",
      "application/vnd.jupyter.widget-view+json": {
       "version_major": 2,
       "version_minor": 0,
       "model_id": "4995a1885a2847eeaa4a340747d2d219"
      }
     },
     "metadata": {},
     "output_type": "display_data"
    },
    {
     "data": {
      "text/plain": "Creating parquet from Arrow format:   0%|          | 0/22 [00:00<?, ?ba/s]",
      "application/vnd.jupyter.widget-view+json": {
       "version_major": 2,
       "version_minor": 0,
       "model_id": "e5099b1d57d141d6bbcf9475b32ce0d3"
      }
     },
     "metadata": {},
     "output_type": "display_data"
    },
    {
     "data": {
      "text/plain": "Pushing dataset shards to the dataset hub:   0%|          | 0/1 [00:00<?, ?it/s]",
      "application/vnd.jupyter.widget-view+json": {
       "version_major": 2,
       "version_minor": 0,
       "model_id": "499a53596f294b92a481ec720e1dafd9"
      }
     },
     "metadata": {},
     "output_type": "display_data"
    },
    {
     "data": {
      "text/plain": "Creating parquet from Arrow format:   0%|          | 0/43 [00:00<?, ?ba/s]",
      "application/vnd.jupyter.widget-view+json": {
       "version_major": 2,
       "version_minor": 0,
       "model_id": "db25debaa71a414eb94a0d6c175dda68"
      }
     },
     "metadata": {},
     "output_type": "display_data"
    },
    {
     "data": {
      "text/plain": "Pushing dataset shards to the dataset hub:   0%|          | 0/1 [00:00<?, ?it/s]",
      "application/vnd.jupyter.widget-view+json": {
       "version_major": 2,
       "version_minor": 0,
       "model_id": "ef0327ee464d44f99434f94cd4c6579b"
      }
     },
     "metadata": {},
     "output_type": "display_data"
    },
    {
     "data": {
      "text/plain": "Creating parquet from Arrow format:   0%|          | 0/42 [00:00<?, ?ba/s]",
      "application/vnd.jupyter.widget-view+json": {
       "version_major": 2,
       "version_minor": 0,
       "model_id": "013995d1f8774165a7cd828ebab33a21"
      }
     },
     "metadata": {},
     "output_type": "display_data"
    },
    {
     "data": {
      "text/plain": "Pushing dataset shards to the dataset hub:   0%|          | 0/1 [00:00<?, ?it/s]",
      "application/vnd.jupyter.widget-view+json": {
       "version_major": 2,
       "version_minor": 0,
       "model_id": "d50d5b90831241178a088035c3215e9f"
      }
     },
     "metadata": {},
     "output_type": "display_data"
    },
    {
     "data": {
      "text/plain": "Creating parquet from Arrow format:   0%|          | 0/43 [00:00<?, ?ba/s]",
      "application/vnd.jupyter.widget-view+json": {
       "version_major": 2,
       "version_minor": 0,
       "model_id": "e48dbe8791404b2b83a05d1d4c2657bc"
      }
     },
     "metadata": {},
     "output_type": "display_data"
    },
    {
     "data": {
      "text/plain": "Pushing dataset shards to the dataset hub:   0%|          | 0/1 [00:00<?, ?it/s]",
      "application/vnd.jupyter.widget-view+json": {
       "version_major": 2,
       "version_minor": 0,
       "model_id": "362472aeb7a14921b646b3a3dc3b79ca"
      }
     },
     "metadata": {},
     "output_type": "display_data"
    },
    {
     "data": {
      "text/plain": "Creating parquet from Arrow format:   0%|          | 0/36 [00:00<?, ?ba/s]",
      "application/vnd.jupyter.widget-view+json": {
       "version_major": 2,
       "version_minor": 0,
       "model_id": "a524e96f080a42759dd3d9893d39d69b"
      }
     },
     "metadata": {},
     "output_type": "display_data"
    },
    {
     "data": {
      "text/plain": "Pushing dataset shards to the dataset hub:   0%|          | 0/1 [00:00<?, ?it/s]",
      "application/vnd.jupyter.widget-view+json": {
       "version_major": 2,
       "version_minor": 0,
       "model_id": "b1bff6af179b4229b7cc66046c905813"
      }
     },
     "metadata": {},
     "output_type": "display_data"
    },
    {
     "data": {
      "text/plain": "Creating parquet from Arrow format:   0%|          | 0/46 [00:00<?, ?ba/s]",
      "application/vnd.jupyter.widget-view+json": {
       "version_major": 2,
       "version_minor": 0,
       "model_id": "1a597896ee2b4ffe94fd5a8a498af316"
      }
     },
     "metadata": {},
     "output_type": "display_data"
    },
    {
     "data": {
      "text/plain": "Pushing dataset shards to the dataset hub:   0%|          | 0/1 [00:00<?, ?it/s]",
      "application/vnd.jupyter.widget-view+json": {
       "version_major": 2,
       "version_minor": 0,
       "model_id": "85ab80f593864b44a1c8ffb0a83df373"
      }
     },
     "metadata": {},
     "output_type": "display_data"
    },
    {
     "data": {
      "text/plain": "Creating parquet from Arrow format:   0%|          | 0/56 [00:00<?, ?ba/s]",
      "application/vnd.jupyter.widget-view+json": {
       "version_major": 2,
       "version_minor": 0,
       "model_id": "d399c70eb45d4ac6a749ac52377a6168"
      }
     },
     "metadata": {},
     "output_type": "display_data"
    },
    {
     "data": {
      "text/plain": "Pushing dataset shards to the dataset hub:   0%|          | 0/1 [00:00<?, ?it/s]",
      "application/vnd.jupyter.widget-view+json": {
       "version_major": 2,
       "version_minor": 0,
       "model_id": "6c86f317875e4e0d976f5bb188b6a47d"
      }
     },
     "metadata": {},
     "output_type": "display_data"
    },
    {
     "data": {
      "text/plain": "Creating parquet from Arrow format:   0%|          | 0/61 [00:00<?, ?ba/s]",
      "application/vnd.jupyter.widget-view+json": {
       "version_major": 2,
       "version_minor": 0,
       "model_id": "05863f4a51094127b8da64704759b48a"
      }
     },
     "metadata": {},
     "output_type": "display_data"
    },
    {
     "data": {
      "text/plain": "Pushing dataset shards to the dataset hub:   0%|          | 0/1 [00:00<?, ?it/s]",
      "application/vnd.jupyter.widget-view+json": {
       "version_major": 2,
       "version_minor": 0,
       "model_id": "c066886553354f88930cb997c62be923"
      }
     },
     "metadata": {},
     "output_type": "display_data"
    },
    {
     "data": {
      "text/plain": "Creating parquet from Arrow format:   0%|          | 0/30 [00:00<?, ?ba/s]",
      "application/vnd.jupyter.widget-view+json": {
       "version_major": 2,
       "version_minor": 0,
       "model_id": "aa0004a24cfb49efb38880f3297201a0"
      }
     },
     "metadata": {},
     "output_type": "display_data"
    },
    {
     "data": {
      "text/plain": "Pushing dataset shards to the dataset hub:   0%|          | 0/1 [00:00<?, ?it/s]",
      "application/vnd.jupyter.widget-view+json": {
       "version_major": 2,
       "version_minor": 0,
       "model_id": "12252b71df8e46b7ac9e1a72c8740038"
      }
     },
     "metadata": {},
     "output_type": "display_data"
    },
    {
     "data": {
      "text/plain": "Creating parquet from Arrow format:   0%|          | 0/48 [00:00<?, ?ba/s]",
      "application/vnd.jupyter.widget-view+json": {
       "version_major": 2,
       "version_minor": 0,
       "model_id": "f76d118355244f209f856023d500484a"
      }
     },
     "metadata": {},
     "output_type": "display_data"
    },
    {
     "data": {
      "text/plain": "Pushing dataset shards to the dataset hub:   0%|          | 0/1 [00:00<?, ?it/s]",
      "application/vnd.jupyter.widget-view+json": {
       "version_major": 2,
       "version_minor": 0,
       "model_id": "874ff85357094b359908f0bee40c0f19"
      }
     },
     "metadata": {},
     "output_type": "display_data"
    },
    {
     "data": {
      "text/plain": "Creating parquet from Arrow format:   0%|          | 0/33 [00:00<?, ?ba/s]",
      "application/vnd.jupyter.widget-view+json": {
       "version_major": 2,
       "version_minor": 0,
       "model_id": "ba75193c70f84eb2979802b1ee858716"
      }
     },
     "metadata": {},
     "output_type": "display_data"
    },
    {
     "data": {
      "text/plain": "Pushing dataset shards to the dataset hub:   0%|          | 0/1 [00:00<?, ?it/s]",
      "application/vnd.jupyter.widget-view+json": {
       "version_major": 2,
       "version_minor": 0,
       "model_id": "9d30c8e5e1f74d6cad1e82cf1f935182"
      }
     },
     "metadata": {},
     "output_type": "display_data"
    },
    {
     "data": {
      "text/plain": "Creating parquet from Arrow format:   0%|          | 0/16 [00:00<?, ?ba/s]",
      "application/vnd.jupyter.widget-view+json": {
       "version_major": 2,
       "version_minor": 0,
       "model_id": "cbdef8e6259d491f9023fffe931c169f"
      }
     },
     "metadata": {},
     "output_type": "display_data"
    },
    {
     "data": {
      "text/plain": "Pushing dataset shards to the dataset hub:   0%|          | 0/1 [00:00<?, ?it/s]",
      "application/vnd.jupyter.widget-view+json": {
       "version_major": 2,
       "version_minor": 0,
       "model_id": "0075a5f2a1904f0891a3c2093090828c"
      }
     },
     "metadata": {},
     "output_type": "display_data"
    },
    {
     "data": {
      "text/plain": "Creating parquet from Arrow format:   0%|          | 0/27 [00:00<?, ?ba/s]",
      "application/vnd.jupyter.widget-view+json": {
       "version_major": 2,
       "version_minor": 0,
       "model_id": "663c6e5ab9504cee85fc559aa62f43b0"
      }
     },
     "metadata": {},
     "output_type": "display_data"
    }
   ],
   "source": [
    "new_corpus.push_to_hub(\"HydraLM/corpus_1_clustered_formatted\")"
   ],
   "metadata": {
    "collapsed": false,
    "ExecuteTime": {
     "end_time": "2023-09-15T10:06:02.120923Z",
     "start_time": "2023-09-15T09:59:41.209934Z"
    }
   },
   "id": "e7ff1c42342b06ec"
  },
  {
   "cell_type": "code",
   "execution_count": 44,
   "outputs": [
    {
     "name": "stdout",
     "output_type": "stream",
     "text": [
      "********************************INPUT********************************\n",
      "### User:\n",
      "Dog-friendly hiking trails\n",
      "\n",
      "### Assistant:\n",
      "\n",
      "********************************OUTPUT********************************\n",
      "Sure, I can certainly provide some information on dog-friendly hiking trails, though the specific trails would depend on your location. Here are few notable ones across the United States:\n",
      "\n",
      "1. Acadia National Park, Maine: Most trails in this national park on the rugged coast of Maine are dog-friendly. The park boasts 100 miles of hiking trails and 45 miles of carriage roads where dogs are allowed. \n",
      "\n",
      "2. Runyon Canyon Park, Los Angeles, California: This 160-acre park right in the heart of LA is very popular with dog owners. It has off-leash areas so that your pup can run free, and it offers stunning views of the city. \n",
      "\n",
      "3. The Appalachian Trail, Eastern US: This iconic trail, which stretches from Georgia to Maine, allows dogs on most of its paths, but they must be leashed.\n",
      "\n",
      "4. Shenandoah National Park, Virginia: Home to 500 miles of trails, Shenandoah is one of the most dog-friendly national parks. Dogs are allowed on nearly all of the trails.\n",
      "\n",
      "5. Red Rock Canyon, Las Vegas, Nevada: Red Rock Canyon offers beautiful scenic trails for both hikers and their dogs. However, dogs must be kept on a leash.\n",
      "\n",
      "6. The Cascades, Washington: If you like a challenging hike, the Alpine Lakes Wilderness area of the Cascades is perfect for you. Dogs are allowed to accompany hikers in this area.\n",
      "\n",
      "Remember, no matter where you are hiking with your dog, it is important to check the specific rules and regulations for each trail. Some trails may require dogs to be leashed at all times, and some parks may have restrictions on where dogs can go. Always remember to clean up after your dog to ensure these beautiful trails remain enjoyable for everyone.\n",
      "=====================================\n",
      "********************************INPUT********************************\n",
      "### User:\n",
      "Most reliable car brands\n",
      "\n",
      "### Assistant:\n",
      "\n",
      "********************************OUTPUT********************************\n",
      "Several car brands have established a reputation for reliability based on various consumer reports, surveys, and long-term performance tests. Here are some of the most reliable car brands:\n",
      "\n",
      "1. Toyota: Toyota has a long-standing reputation for reliability and longevity. They have a wide range of vehicles, from compact cars like the Corolla to their well-regarded SUVs such as the RAV4 and Highlander. Their vehicles are known for their robust build and consistent performance. \n",
      "\n",
      "2. Lexus: As Toyota's luxury segment, Lexus mirrors Toyota's commitment to reliability and quality, bundling it with luxury and comfort. Lexus vehicles are often found at the top of many reliability rankings.\n",
      "\n",
      "3. Mazda: Mazda cars score high in terms of reliability, also providing enjoyable driving experiences. They have various well-performing models such as the Mazda3 and Mazda CX-5. Mazda vehicles are also appreciated for their fuel efficiency and safety features.\n",
      "\n",
      "4. Honda: Honda is another Japanese brand known for reliability. Their vehicles, including the Accord and Civic, often have excellent resale values due to their durability and dependability.\n",
      "\n",
      "5. Subaru: Subaru cars are praised for their dependability, particularly their all-wheel-drive systems that offer great performance in difficult road conditions. Popular models include the Outback and Forester.\n",
      "\n",
      "6. Hyundai: Hyundai has been improving its reputation in terms of reliability over the years. This South Korean brand offers a range of vehicles known for their value for money as well as long-term durability. Hyundai models also come with one of the best warranties in the industry.\n",
      "\n",
      "7. Audi: When it comes to luxury brands, Audi consistently ranks high in terms of reliability. They combine sleek design with high performance and durability. \n",
      "\n",
      "8. BMW: BMW is another luxury brand known for its reliable vehicles. While maintenance can be expensive, these cars are built to last.\n",
      "\n",
      "9. Kia: Just like its sibling brand Hyundai, Kia has seen a vast improvement in reliability ratings over the past few years. With vehicles like the Telluride and Sorento, Kia offers reliable vehicles with high-quality interiors.\n",
      "\n",
      "10. Porsche: Often rated as the most reliable luxury performance brand, Porsche combines performance, speed, and reliability. However, owning a Porsche can come with high maintenance costs.\n",
      "\n",
      "It's essential to remember that while brands provide general reliability guidance, the reliability can vary from model to model within a brand.\n",
      "\n",
      "=====================================\n",
      "********************************INPUT********************************\n",
      "### User:\n",
      "Conduct a comparative analysis on the average weather conditions in Seattle and Miami during each season, along with how these conditions influence the lifestyle and activities of residents.\n",
      "\n",
      "### Assistant:\n",
      "\n",
      "********************************OUTPUT********************************\n",
      "Weather plays a significant role in shaping the lifestyle of residents in any city, and this is quite evident in Seattle, Washington, and Miami, Florida.\n",
      "\n",
      "Seattle:\n",
      "1. Spring (March to May) – During spring, the temperature in Seattle fluctuates between 46.9 °F to 63.2°F. The town generally sees rising temps with occasional rains, encouraging outdoor activities like hiking and visiting flower festivals.\n",
      "\n",
      "2. Summer (June to August) – Seattle experiences mild but beautiful summers with temperatures reaching a maximum of 76.7°F. These ideal conditions attract residents to explore surrounding natural beauty, including beaches and national parks.\n",
      "\n",
      "3. Autumn (September to November) - Cooling temperatures ranging from 43.5°F to 71.2°F and increasing rain discourage outdoor activities. People lean towards indoor activities like visiting the renowned Pike Place Market or indoor rock climbing.\n",
      "\n",
      "4. Winter (December to February) – Severe weather in winter with temperatures reaching as low as 36.2°F typically results in snowfall. Skiing and snowboarding are popular activities in this season.\n",
      "\n",
      "Miami:\n",
      "1. Spring (March to May) – Miami gets more humid with spring temperatures between 68.4°F and 85.6°F. The good weather invites locals to enjoy beach activities or the city's nightlife.\n",
      "\n",
      "2. Summer (June to August) - High heat, humidity, and temperatures as high as 89.2°F define Miami's summer, along with frequent afternoon showers. Many residents partake in water-based activities like swimming, surfing, and boating.\n",
      "\n",
      "3. Autumn (September to November) – The autumn season in Miami still sees high temperatures of around 82.9°F, and the risk of hurricanes increases. Locals take the opportunity to explore indoor activities like visiting museums and art galleries.\n",
      "\n",
      "4. Winter (December to February) – In winter, Miami's weather is mild and warm with temperatures from 60.4°F to 76.1°F, which offers ideal conditions for visiting open-air markets and outdoor sports.\n",
      "\n",
      "Conclusion:\n",
      "In general, the lifestyle and activities of Seattle residents revolve around the city's cooler climate and natural scenery, with a mixture of indoor and outdoor activities. On the other hand, Miami residents, under the influence of perennial warmth and humidity, prefer beach and water-related activities. The occasional hurricane season results in a preference for indoor activities.\n",
      "=====================================\n",
      "********************************INPUT********************************\n",
      "### User:\n",
      "Write a detailed analysis of the United Nations, including its formation, structure, main objectives, notable achievements, and current challenges.\n",
      "\n",
      "### Assistant:\n",
      "\n",
      "********************************OUTPUT********************************\n",
      "The United Nations (UN) is an international organization established on October 24, 1945, in the wake of World War II to prevent further conflict. It replaced the failed League of Nations and was designed to maintain international peace and security, promote social progress, improve living standards, and uphold human rights. It was originally composed of 51 member states, but its membership has since grown to include 193 member states.\n",
      "\n",
      "In terms of structure, the UN is composed of six main organs: the General Assembly, the Security Council, the Economic and Social Council, the Trusteeship Council, the International Court of Justice, and the Secretariat. \n",
      "\n",
      "1. The General Assembly is the main deliberative and proclamation body, where each member state has equal representation.\n",
      "2. The Security Council is tasked with ensuring international peace and can resort to imposing sanctions or even authorize the use of force to maintain or restore global peace and security. It has 15 Members, and each Member has one vote.\n",
      "3. The Economic and Social Council is responsible for coordinating the economic and social work of the United Nations and its specialized agencies and institutions.\n",
      "4. The Trusteeship Council, which is currently suspended, used to oversee trust territories' administration on their way to independence.\n",
      "5. The International Court of Justice, located in The Hague, Netherlands, is the UN's primary judicial organ that adjudicates disputes between states.\n",
      "6. The Secretariat carries out the day-to-day work of the organization. The Secretary-General heads it.\n",
      "\n",
      "The main objectives of the UN are outlined in its charter and include maintaining international peace and security, upholding international law, promoting human rights, fostering social and economic development, and coordinating international cooperation to solve problems of an economic, social, cultural, or humanitarian character.\n",
      "\n",
      "Notably, the United Nations has had several achievements. Among its ranked milestones is its role in decolonization and the promotion of independence of numerous countries across Asia, Africa, and the Middle East in the 1960s and 1970s. The UN has also played a significant part in providing humanitarian aid during crises. It contributed immense work to combat diseases around the world through its specialized agencies like the World Health Organization (WHO). It's also played a significant part in peacekeeping and conflict resolution, with over 70 peacekeeping missions since its inception.\n",
      "\n",
      "However, the United Nations also faces several challenges. Reform of the Security Council, to better reflect the realities of the modern world, has been talked about for years but still has not been achieved. It also struggles with issues of bureaucracy, inefficiency, and political pressure from dominant nations. In recent years, the UN has faced criticism for not responding effectively to major global crises, such as the Syrian Civil War and the Rohingya Crisis in Myanmar. The emerging climate crisis is another significant challenge facing the organization. Despite these challenges, the UN continues to be a central forum for addressing issues that transcend country borders and cannot be resolved by any one country acting alone.\n",
      "=====================================\n",
      "********************************INPUT********************************\n",
      "### User:\n",
      "What is the deepest point in each of the world's five largest oceans?\n",
      "\n",
      "### Assistant:\n",
      "\n",
      "********************************OUTPUT********************************\n",
      "1. Pacific Ocean: The Pacific Ocean is the largest of the world's five oceans and its deepest point is known as the Mariana Trench. Specifically, the deepest part of the Mariana Trench, called the Challenger Deep, reaches a depth of approximately 36,070 feet (10,994 meters).\n",
      "\n",
      "2. Atlantic Ocean: The deepest part of the Atlantic Ocean is the Puerto Rico Trench, which resides in the western part of the North Atlantic Ocean. Its maximum depth is referred to as the Milwaukee Deep and it reaches an estimated depth of about 27,493 feet (8,380 meters).\n",
      "\n",
      "3. Indian Ocean: The third largest ocean, the Indian Ocean's deepest point is known as the Java Trench, also sometimes called the Sunda Trench. Its greatest depth is the Diamantina Trench which descends about 26,401 feet (8,047 meters).\n",
      "\n",
      "4. Southern Ocean: The lowest point of the Southern Ocean (also known as the Antarctic Ocean) is within the South Sandwich Trench. The deepest part is Meteor Deep, which reaches approximately 23,737 feet (7,235 meters) deep.\n",
      "\n",
      "5. Arctic Ocean: Finally, the smallest of the five major oceans, the Arctic Ocean, contains its deepest point in the Eurasia Basin, specifically the Litke Deep, with a depth reaching about 17,881 feet (5,450 meters).\n",
      "=====================================\n",
      "********************************INPUT********************************\n",
      "### User:\n",
      "Including only the planets that orbit around the Sun and are not dwarf planets, how many planets are there in our solar system?\"\n",
      "\n",
      "### Assistant:\n",
      "\n",
      "********************************OUTPUT********************************\n",
      "There are eight planets in our solar system that orbit around the Sun and are not classified as dwarf planets. These eight planets, in order of their proximity to the Sun, are Mercury, Venus, Earth, Mars, Jupiter, Saturn, Uranus, and Neptune. All these planets have unique characteristics that make them distinct, such as the Earth's ability to support life, Jupiter's massive size which is bigger than all other planets combined, or Neptune's extremely powerful winds which are the fastest in the solar system. The number of planets reduced from nine to eight after the international astronomical community redefined the definition of a planet in 2006, which led to the downgrading of Pluto to a dwarf planet.\n",
      "=====================================\n",
      "********************************INPUT********************************\n",
      "### User:\n",
      "What is the official currency used in Japan as of 2022?\n",
      "\n",
      "### Assistant:\n",
      "\n",
      "********************************OUTPUT********************************\n",
      "The official currency used in Japan as of 2022 is the Japanese Yen. Its currency symbol is ¥ and its ISO code is JPY. The Yen is issued by the Bank of Japan, the central bank of the country. In Japan, the Yen comes in both bills and coins with various denominations. The common bill denominations are ¥1,000, ¥2,000, ¥5,000 and ¥10,000 while the standard coin denominations are ¥1, ¥5, ¥10, ¥50, ¥100 and ¥500.\n",
      "=====================================\n",
      "********************************INPUT********************************\n",
      "### User:\n",
      "What is the largest desert in the world, based on land area?\n",
      "\n",
      "### Assistant:\n",
      "\n",
      "********************************OUTPUT********************************\n",
      "The largest desert in the world based on land area is the Antarctica Desert. Contrary to common perception, a desert is not only characterized by sand, heat, or aridity, but it's primarily defined by precipitation levels. According to this broader definition, the Antarctica Desert, with an area of approximately 13,829,430 square kilometers is technically the largest. It is exceptionally arid as it receives less than 200mm of precipitation annually, which mostly falls as snow. However, if we are considering non-polar desert, then the Sahara Desert is the largest. Covering an area of about 9.2 million square kilometers, the Sahara stretches through North Africa, from the Red Sea to the shores of the Atlantic Ocean.\n",
      "\n",
      "=====================================\n",
      "********************************INPUT********************************\n",
      "### User:\n",
      "Write an essay detailing the historical background, geographical significance, economic contribution and cultural highlights of the capital of Canada.\n",
      "\n",
      "### Assistant:\n",
      "\n",
      "********************************OUTPUT********************************\n",
      "Title: The Historical, Geographical, Economic and Cultural Landscape of Ottawa, Canada\n",
      "\n",
      "The capital of Canada, Ottawa, is a cosmopolitan city unique in its richness of history, geographical peculiarities, economic contribution, and cultural diversity. Located at the confluence of three major rivers – the Ottawa, Gatineau, and Rideau, Ottawa presents a pictorial panorama making it one of the most beautiful capitals globally. This essay seeks to explore the intertwined historical background, geographical significance, economic contribution, and the cultural symphony that defines Ottawa, the capital of Canada.\n",
      "\n",
      "Historically, the origin of Ottawa dates back to the early 1800s, rooted in the timber trade. It was originally named Bytown, after Lieutenant-Colonel John By, who supervised the construction of the Rideau Canal. It was officially renamed ‘Ottawa’ in 1855 and designated as the capital of Canada by Queen Victoria in 1857. Its strategic location, being less vulnerable to American attack, and its proximity to Montreal and Quebec – Canada’s two prominent cities, played a vital role in this designation. Over the subsequent century and a half, Ottawa evolved from a rough lumber town to a world-class metropolis, housing a mix of English and French-speaking populations, and serving as the national stage for political maneuverings, policy debates, and vibrant cultural displays.\n",
      "\n",
      "The geographical spot of Ottawa at the junction of three rivers and the UNESCO World Heritage site, the Rideau Canal, attracts tourists from all over the world. The Ottawa River forms a natural boundary between the provinces of Ontario and Quebec, reinforcing Ottawa's status as a place where two major linguistic communities meet. The city's geography, characterized by rolling hills and valleys and a moderate climate, further enhances its attractiveness.\n",
      "\n",
      "Ottawa has a diverse economic profile, with a heavy focus on the service sector, particularly in business, finance, administration, and sales. It is home to numerous high-tech companies, notably in telecommunications, software development, and environment-related businesses, earning the nickname “Silicon Valley North”. Additionally, as the capital city, Ottawa sees significant employment in public administration due to the concentration of federal government offices. The economy is further boosted by tourism and healthcare sectors, making Ottawa the fourth largest metropolitan economy in Canada. \n",
      "\n",
      "Culturally, Ottawa offers a unique blend of English, French, and Indigenous influences that have shaped its arts, cuisine, festivals, and lifestyle. As Canada's capital, Ottawa is home to many national institutions like the National Gallery of Canada, the Canadian Museum of History, and the National Arts Centre. It is world-renowned for its annual cultural events including Winterlude, the largest winter festival in North America, and the Canadian Tulip Festival. The city is also lauded for its commitment to green living, with extensive cycling paths and green spaces, including Gatineau Park.\n",
      "\n",
      "In conclusion, Ottawa, the capital of Canada, is a significant city marked by its historic development, unique geographical setting, diverse economic contributions, and vibrant culture. This amalgamation makes Ottawa not just an administrative capital, but a place of national identity, where the narrative of the nation’s past, present, and future continually unfolds. It calls on us all to reflect on its legacy as we look to craft a sustainable and inclusive future in the spirit of the Ottawa that we know and cherish.\n",
      "\n",
      "=====================================\n",
      "********************************INPUT********************************\n",
      "### User:\n",
      "What is the name of Saturn's largest moon, which is also the second largest moon in the solar system?\n",
      "\n",
      "### Assistant:\n",
      "\n",
      "********************************OUTPUT********************************\n",
      "The name of Saturn's largest moon, which also holds the distinction of being the second largest moon in our solar system, is Titan. This moon is rather unique since it is the only known moon that has a substantial atmosphere, which is actually denser than Earth's. Titan is even larger than the planet Mercury and is renowned for the presence of stable bodies of surface liquid, including lakes, rivers, and seas, although these contain methane and ethane rather than water.\n",
      "=====================================\n"
     ]
    }
   ],
   "source": [
    "# Exploring examples of formatted data\n",
    "df = pd.DataFrame(new_corpus[\"config0\"])\n",
    "for i in range(10):\n",
    "    print(\"********************************INPUT********************************\")\n",
    "    print(df.iloc[i][\"input\"])\n",
    "    print(\"********************************OUTPUT********************************\")\n",
    "    print(df.iloc[i][\"output\"])\n",
    "    print(\"=====================================\")"
   ],
   "metadata": {
    "collapsed": false,
    "ExecuteTime": {
     "end_time": "2023-09-15T10:06:02.586269Z",
     "start_time": "2023-09-15T10:06:02.132654Z"
    }
   },
   "id": "805cdd77d540c240"
  },
  {
   "cell_type": "code",
   "execution_count": null,
   "outputs": [],
   "source": [],
   "metadata": {
    "collapsed": false
   },
   "id": "994ce0b4a5d59123"
  }
 ],
 "metadata": {
  "kernelspec": {
   "display_name": "Python 3",
   "language": "python",
   "name": "python3"
  },
  "language_info": {
   "codemirror_mode": {
    "name": "ipython",
    "version": 2
   },
   "file_extension": ".py",
   "mimetype": "text/x-python",
   "name": "python",
   "nbconvert_exporter": "python",
   "pygments_lexer": "ipython2",
   "version": "2.7.6"
  }
 },
 "nbformat": 4,
 "nbformat_minor": 5
}
